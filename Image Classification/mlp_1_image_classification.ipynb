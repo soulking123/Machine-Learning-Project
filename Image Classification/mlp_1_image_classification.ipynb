{
  "nbformat": 4,
  "nbformat_minor": 0,
  "metadata": {
    "colab": {
      "provenance": []
    },
    "kernelspec": {
      "name": "python3",
      "display_name": "Python 3"
    },
    "language_info": {
      "name": "python"
    }
  },
  "cells": [
    {
      "cell_type": "code",
      "execution_count": 1,
      "metadata": {
        "id": "Phx6PhPYqVyx"
      },
      "outputs": [],
      "source": [
        "import os\n",
        "import numpy as np\n",
        "import tensorflow as tf\n",
        "import matplotlib.pyplot as plt"
      ]
    },
    {
      "cell_type": "code",
      "source": [
        "# tf.keras.datasets.mnist.load_data() will return tuples, the tupples structure would look like this\n",
        "# ((training_images, training_labels), (validation_images, validation_labels))\n",
        "\n",
        "(training_images, training_labels),(validation_images, validation_labels) = tf.keras.datasets.mnist.load_data()"
      ],
      "metadata": {
        "id": "IfPg7YTOq2Eh"
      },
      "execution_count": 2,
      "outputs": []
    },
    {
      "cell_type": "code",
      "source": [
        "# Check total files\n",
        "print(f\"training files contain {training_images.shape} images, and {training_labels.shape} labels\")\n",
        "print(f\"training files contain {validation_images.shape} images, and {validation_labels.shape} labels\")"
      ],
      "metadata": {
        "colab": {
          "base_uri": "https://localhost:8080/"
        },
        "id": "rzpj8rDmugBe",
        "outputId": "5c6d6689-1bea-4f1e-9325-11f295395ed0"
      },
      "execution_count": 3,
      "outputs": [
        {
          "output_type": "stream",
          "name": "stdout",
          "text": [
            "training files contain (60000, 28, 28) images, and (60000,) labels\n",
            "training files contain (10000, 28, 28) images, and (10000,) labels\n"
          ]
        }
      ]
    },
    {
      "cell_type": "code",
      "source": [
        "# cehck the first umage from the training and validation and check the imaga shape\n",
        "# the images shahpe will be (28,28), we need to expand the dimension to (28,28,1)\n",
        "\n",
        "# for each pixel\n",
        "\n",
        "print(f\"training images shape : {training_images[0].shape}\")\n",
        "print(f\"training images shape : {validation_images[0].shape}\")\n",
        "\n",
        "def reshape_and_normalize(images):\n",
        "    images = images.reshape(*images.shape, 1)/255\n",
        "    return images\n",
        "\n",
        "training_images = reshape_and_normalize(training_images)\n",
        "validation_images = reshape_and_normalize(validation_images)\n"
      ],
      "metadata": {
        "colab": {
          "base_uri": "https://localhost:8080/"
        },
        "id": "yUvVbjdxr0Iz",
        "outputId": "39008475-ea96-4216-c148-32c79363e4e2"
      },
      "execution_count": 4,
      "outputs": [
        {
          "output_type": "stream",
          "name": "stdout",
          "text": [
            "training images shape : (28, 28)\n",
            "training images shape : (28, 28)\n"
          ]
        }
      ]
    },
    {
      "cell_type": "code",
      "source": [
        "training_images2 = reshape_and_normalize(training_images)"
      ],
      "metadata": {
        "id": "GEbiRaFRsCxB"
      },
      "execution_count": 5,
      "outputs": []
    },
    {
      "cell_type": "code",
      "source": [
        "class myCallback(tf.keras.callbacks.Callback):\n",
        "    def on_epoch_end(self, epoch, logs={}):\n",
        "        # Check accuracy\n",
        "        if(logs.get('val_accuracy') > 0.99):\n",
        "            print(\"\\nValidation accuracy is higher than 0.99 so stopping training!\")\n",
        "            self.model.stop_training = True\n"
      ],
      "metadata": {
        "id": "7peVPhQAs7TF"
      },
      "execution_count": 6,
      "outputs": []
    },
    {
      "cell_type": "code",
      "source": [
        "\n",
        "def convolutional_model():\n",
        "    model = tf.keras.models.Sequential([\n",
        "        tf.keras.layers.Conv2D(32, (3,3), activation='relu', input_shape=(28, 28, 1)),\n",
        "        tf.keras.layers.MaxPooling2D(2, 2),\n",
        "        tf.keras.layers.Conv2D(32, (3,3), activation='relu'),\n",
        "        tf.keras.layers.MaxPooling2D(2,2),\n",
        "\n",
        "          # Add the same layers as before\n",
        "        tf.keras.layers.Flatten(),\n",
        "        tf.keras.layers.Dense(128, activation='relu'),\n",
        "        tf.keras.layers.Dense(10, activation='softmax')\n",
        "\n",
        "    ])\n",
        "    model.compile(optimizer='adam',\n",
        "                  loss='sparse_categorical_crossentropy',\n",
        "                  metrics=['accuracy'])\n",
        "\n",
        "    return model"
      ],
      "metadata": {
        "id": "E0LZ6MC9xix8"
      },
      "execution_count": 7,
      "outputs": []
    },
    {
      "cell_type": "code",
      "source": [
        "model = convolutional_model()\n",
        "\n",
        "model_params = model.count_params()\n",
        "\n",
        "assert model_params < 1000000, (\n",
        "    f'Your model has {model_params:,} params. For successful grading, please keep it '\n",
        "    f'under 1,000,000 by reducing the number of units in your Conv2D and/or Dense layers.'\n",
        ")\n",
        "\n",
        "callbacks = myCallback()\n",
        "\n",
        "history = model.fit(training_images, training_labels,\n",
        "                    epochs=10,\n",
        "                    validation_data=(validation_images, validation_labels),\n",
        "                    callbacks=[callbacks])"
      ],
      "metadata": {
        "colab": {
          "base_uri": "https://localhost:8080/"
        },
        "id": "CkGPJ0308fbU",
        "outputId": "e23de117-4109-4988-dd1d-e0a0d4ec10f1"
      },
      "execution_count": 8,
      "outputs": [
        {
          "output_type": "stream",
          "name": "stdout",
          "text": [
            "Epoch 1/10\n",
            "1875/1875 [==============================] - 80s 41ms/step - loss: 0.1348 - accuracy: 0.9591 - val_loss: 0.0469 - val_accuracy: 0.9841\n",
            "Epoch 2/10\n",
            "1875/1875 [==============================] - 65s 35ms/step - loss: 0.0450 - accuracy: 0.9861 - val_loss: 0.0363 - val_accuracy: 0.9885\n",
            "Epoch 3/10\n",
            "1875/1875 [==============================] - 63s 34ms/step - loss: 0.0315 - accuracy: 0.9897 - val_loss: 0.0307 - val_accuracy: 0.9894\n",
            "Epoch 4/10\n",
            "1875/1875 [==============================] - 69s 37ms/step - loss: 0.0235 - accuracy: 0.9926 - val_loss: 0.0278 - val_accuracy: 0.9897\n",
            "Epoch 5/10\n",
            "1875/1875 [==============================] - ETA: 0s - loss: 0.0171 - accuracy: 0.9945\n",
            "Validation accuracy is higher than 0.99 so stopping training!\n",
            "1875/1875 [==============================] - 74s 39ms/step - loss: 0.0171 - accuracy: 0.9945 - val_loss: 0.0258 - val_accuracy: 0.9925\n"
          ]
        }
      ]
    },
    {
      "cell_type": "code",
      "source": [
        "prediction_result = model.predict(validation_images)"
      ],
      "metadata": {
        "id": "gYBrlX9e9wC6",
        "colab": {
          "base_uri": "https://localhost:8080/"
        },
        "outputId": "6bcbf661-3f2f-43f2-9b05-3cba7675be5f"
      },
      "execution_count": 9,
      "outputs": [
        {
          "output_type": "stream",
          "name": "stdout",
          "text": [
            "313/313 [==============================] - 3s 9ms/step\n"
          ]
        }
      ]
    },
    {
      "cell_type": "code",
      "source": [
        "prediction_result = np.argmax(prediction_result, axis=1)"
      ],
      "metadata": {
        "id": "a2mcmwpkKyQu"
      },
      "execution_count": 10,
      "outputs": []
    },
    {
      "cell_type": "code",
      "source": [
        "diff_indices = np.where(prediction_result != validation_labels)[0]\n",
        "print(f\"{diff_indices.shape[0]} images is misspredicted out of {validation_images.shape[0]}\")"
      ],
      "metadata": {
        "colab": {
          "base_uri": "https://localhost:8080/"
        },
        "id": "7RfWZ6qIVzKo",
        "outputId": "26572e27-1484-4b28-e5cd-8a728cfdcc42"
      },
      "execution_count": 11,
      "outputs": [
        {
          "output_type": "stream",
          "name": "stdout",
          "text": [
            "75 images is misspredicted out of 10000\n"
          ]
        }
      ]
    },
    {
      "cell_type": "code",
      "source": [
        "# take the first 5 of miss predicted images, and plot the images\n",
        "misspredicted_images = diff_indices[:5]\n",
        "\n",
        "fig, axes = plt.subplots(nrows=1, ncols=misspredicted_images.shape[0])\n",
        "for i, ax in enumerate(axes):\n",
        "    ax.imshow(validation_images[misspredicted_images[i]], cmap='gray')\n",
        "    ax.axis('off')\n",
        "    ax.set_title(f\"Truth: {validation_labels[misspredicted_images[i]]}\\nPred: {prediction_result[misspredicted_images[i]]}\")\n",
        "plt.tight_layout()\n",
        "plt.show()"
      ],
      "metadata": {
        "colab": {
          "base_uri": "https://localhost:8080/",
          "height": 190
        },
        "id": "AwifRE5SsO9G",
        "outputId": "31a341d6-9441-4de3-8020-d1595d7168ea"
      },
      "execution_count": 12,
      "outputs": [
        {
          "output_type": "display_data",
          "data": {
            "text/plain": [
              "<Figure size 640x480 with 5 Axes>"
            ],
            "image/png": "[encoded data removed]"
          },
          "metadata": {}
        }
      ]
    }
  ]
}